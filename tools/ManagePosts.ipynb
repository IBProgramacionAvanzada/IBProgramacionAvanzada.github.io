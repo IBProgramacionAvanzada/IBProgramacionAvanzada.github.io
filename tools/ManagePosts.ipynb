{
 "cells": [
  {
   "cell_type": "code",
   "execution_count": 1,
   "metadata": {
    "dotnet_interactive": {
     "language": "fsharp"
    },
    "polyglot_notebook": {
     "kernelName": "fsharp"
    },
    "vscode": {
     "languageId": "polyglot-notebook"
    }
   },
   "outputs": [
    {
     "data": {
      "text/html": [
       "<div><div></div><div></div><div><strong>Installed Packages</strong><ul><li><span>FSharp.Data, 6.2.0</span></li></ul></div></div>"
      ]
     },
     "metadata": {},
     "output_type": "display_data"
    }
   ],
   "source": [
    "#r \"nuget: FSharp.Data\"\n",
    "\n",
    "open FSharp.Data"
   ]
  },
  {
   "cell_type": "code",
   "execution_count": 2,
   "metadata": {
    "dotnet_interactive": {
     "language": "fsharp"
    },
    "polyglot_notebook": {
     "kernelName": "fsharp"
    },
    "vscode": {
     "languageId": "polyglot-notebook"
    }
   },
   "outputs": [],
   "source": [
    "let readFile(fileName: string) =  \n",
    "    let lines = File.ReadAllText(fileName)\n",
    "    lines "
   ]
  },
  {
   "cell_type": "code",
   "execution_count": 3,
   "metadata": {
    "dotnet_interactive": {
     "language": "fsharp"
    },
    "polyglot_notebook": {
     "kernelName": "fsharp"
    },
    "vscode": {
     "languageId": "polyglot-notebook"
    }
   },
   "outputs": [],
   "source": [
    "let header title = \n",
    "$\"\"\"---\n",
    "layout: post\n",
    "title: {title}\n",
    "tagline: Repasando algunas cuestiones sobre funciones\n",
    "categories: \n",
    "- F# as your first functional programming language\n",
    "tags:\n",
    "- fsharp\n",
    "---\n",
    "\"\"\""
   ]
  },
  {
   "cell_type": "code",
   "execution_count": 4,
   "metadata": {
    "dotnet_interactive": {
     "language": "fsharp"
    },
    "polyglot_notebook": {
     "kernelName": "fsharp"
    },
    "vscode": {
     "languageId": "polyglot-notebook"
    }
   },
   "outputs": [
    {
     "data": {
      "text/plain": [
       "---\n",
       "layout: post\n",
       "title: Hola\n",
       "tagline: Repasando algunas cuestiones sobre funciones\n",
       "categories: \n",
       "- F# as your first functional programming language\n",
       "tags:\n",
       "- fsharp\n",
       "---\n"
      ]
     },
     "metadata": {},
     "output_type": "display_data"
    }
   ],
   "source": [
    "header \"Hola\""
   ]
  },
  {
   "cell_type": "code",
   "execution_count": 5,
   "metadata": {
    "dotnet_interactive": {
     "language": "fsharp"
    },
    "polyglot_notebook": {
     "kernelName": "fsharp"
    },
    "vscode": {
     "languageId": "polyglot-notebook"
    }
   },
   "outputs": [],
   "source": [
    "[<Literal>]\n",
    "let jsonConfig = \"configPosts.json\"\n",
    "\n",
    "[<Literal>]\n",
    "let postsDir = \"_fsharpNext\"\n",
    "\n",
    "[<Literal>]\n",
    "let draftsDir = \"_drafts\"\n",
    "\n",
    "\n",
    "type CourseProvider = FSharp.Data.JsonProvider<jsonConfig> \n",
    "\n",
    "let lessons = CourseProvider.Load(\"Posts.json\")\n"
   ]
  },
  {
   "cell_type": "code",
   "execution_count": 6,
   "metadata": {
    "dotnet_interactive": {
     "language": "fsharp"
    },
    "polyglot_notebook": {
     "kernelName": "fsharp"
    },
    "vscode": {
     "languageId": "polyglot-notebook"
    }
   },
   "outputs": [
    {
     "data": {
      "text/html": [
       "<table><thead><tr><th><i>index</i></th><th>value</th></tr></thead><tbody><tr><td>0</td><td><details class=\"dni-treeview\"><summary><span class=\"dni-code-hint\"><code>{\\n  \"title\": \"¿Qué es F#?\",\\n  \"files\": [\\n    \"00_Intro\",\\n    \"02_Functions_new\",\\n    \"01_Fundamentals_new\",\\n    \"03_Exercises\"\\n  ]\\n}</code></span></summary><div><table><thead><tr></tr></thead><tbody><tr><td>JsonValue</td><td><details class=\"dni-treeview\"><summary><span class=\"dni-code-hint\"><code>{\\n  \"title\": \"¿Qué es F#?\",\\n  \"files\": [\\n    \"00_Intro\",\\n    \"02_Functions_new\",\\n    \"01_Fundamentals_new\",\\n    \"03_Exercises\"\\n  ]\\n}</code></span></summary><div><table><thead><tr></tr></thead><tbody><tr><td>properties</td><td><table><thead><tr><th><i>index</i></th><th>value</th></tr></thead><tbody><tr><td>0</td><td><details class=\"dni-treeview\"><summary><span class=\"dni-code-hint\"><code>(title, \"¿Qué es F#?\")</code></span></summary><div><table><thead><tr></tr></thead><tbody><tr><td>Item1</td><td>title</td></tr><tr><td>Item2</td><td><details class=\"dni-treeview\"><summary><span class=\"dni-code-hint\"><code>\"¿Qué es F#?\"</code></span></summary><div><table><thead><tr></tr></thead><tbody><tr><td>Item</td><td>&#191;Qu&#233; es F#?</td></tr><tr><td>_Print</td><td>&quot;&#191;Qu&#233; es F#?&quot;</td></tr></tbody></table></div></details></td></tr></tbody></table></div></details></td></tr><tr><td>1</td><td><details class=\"dni-treeview\"><summary><span class=\"dni-code-hint\"><code>(files, [\\n  \"00_Intro\",\\n  \"02_Functions_new\",\\n  \"01_Fundamentals_new\",\\n  \"03_Exercises\"\\n])</code></span></summary><div><table><thead><tr></tr></thead><tbody><tr><td>Item1</td><td>files</td></tr><tr><td>Item2</td><td><details class=\"dni-treeview\"><summary><span class=\"dni-code-hint\"><code>[\\n  \"00_Intro\",\\n  \"02_Functions_new\",\\n  \"01_Fundamentals_new\",\\n  \"03_Exercises\"\\n]</code></span></summary><div><table><thead><tr></tr></thead><tbody><tr><td>elements</td><td>[ \"00_Intro\", \"02_Functions_new\", \"01_Fundamentals_new\", \"03_Exercises\" ]</td></tr><tr><td>_Print</td><td>[\n",
       "  &quot;00_Intro&quot;,\n",
       "  &quot;02_Functions_new&quot;,\n",
       "  &quot;01_Fundamentals_new&quot;,\n",
       "  &quot;03_Exercises&quot;\n",
       "]</td></tr></tbody></table></div></details></td></tr></tbody></table></div></details></td></tr></tbody></table></td></tr><tr><td>_Print</td><td>{\n",
       "  &quot;title&quot;: &quot;&#191;Qu&#233; es F#?&quot;,\n",
       "  &quot;files&quot;: [\n",
       "    &quot;00_Intro&quot;,\n",
       "    &quot;02_Functions_new&quot;,\n",
       "    &quot;01_Fundamentals_new&quot;,\n",
       "    &quot;03_Exercises&quot;\n",
       "  ]\n",
       "}</td></tr></tbody></table></div></details></td></tr></tbody></table></div></details></td></tr><tr><td>1</td><td><details class=\"dni-treeview\"><summary><span class=\"dni-code-hint\"><code>{\\n  \"title\": \"Más sobre funciones\",\\n  \"files\": [\\n    \"12_DiscriminatedUnions_es\",\\n    \"13_Records_es\",\\n    \"10_MasSobreFunciones\",\\n    \"14_Exercises\",\\n    \"11_IntroToTypes_es\"\\n  ]\\n}</code></span></summary><div><table><thead><tr></tr></thead><tbody><tr><td>JsonValue</td><td><details class=\"dni-treeview\"><summary><span class=\"dni-code-hint\"><code>{\\n  \"title\": \"Más sobre funciones\",\\n  \"files\": [\\n    \"12_DiscriminatedUnions_es\",\\n    \"13_Records_es\",\\n    \"10_MasSobreFunciones\",\\n    \"14_Exercises\",\\n    \"11_IntroToTypes_es\"\\n  ]\\n}</code></span></summary><div><table><thead><tr></tr></thead><tbody><tr><td>properties</td><td><table><thead><tr><th><i>index</i></th><th>value</th></tr></thead><tbody><tr><td>0</td><td><details class=\"dni-treeview\"><summary><span class=\"dni-code-hint\"><code>(title, \"Más sobre funciones\")</code></span></summary><div><table><thead><tr></tr></thead><tbody><tr><td>Item1</td><td>title</td></tr><tr><td>Item2</td><td><details class=\"dni-treeview\"><summary><span class=\"dni-code-hint\"><code>\"Más sobre funciones\"</code></span></summary><div><table><thead><tr></tr></thead><tbody><tr><td>Item</td><td>M&#225;s sobre funciones</td></tr><tr><td>_Print</td><td>&quot;M&#225;s sobre funciones&quot;</td></tr></tbody></table></div></details></td></tr></tbody></table></div></details></td></tr><tr><td>1</td><td><details class=\"dni-treeview\"><summary><span class=\"dni-code-hint\"><code>(files, [\\n  \"12_DiscriminatedUnions_es\",\\n  \"13_Records_es\",\\n  \"10_MasSobreFunciones\",\\n  \"14_Exercises\",\\n  \"11_IntroToTypes_es\"\\n])</code></span></summary><div><table><thead><tr></tr></thead><tbody><tr><td>Item1</td><td>files</td></tr><tr><td>Item2</td><td><details class=\"dni-treeview\"><summary><span class=\"dni-code-hint\"><code>[\\n  \"12_DiscriminatedUnions_es\",\\n  \"13_Records_es\",\\n  \"10_MasSobreFunciones\",\\n  \"14_Exercises\",\\n  \"11_IntroToTypes_es\"\\n]</code></span></summary><div><table><thead><tr></tr></thead><tbody><tr><td>elements</td><td>[ \"12_DiscriminatedUnions_es\", \"13_Records_es\", \"10_MasSobreFunciones\", \"14_Exercises\", \"11_IntroToTypes_es\" ]</td></tr><tr><td>_Print</td><td>[\n",
       "  &quot;12_DiscriminatedUnions_es&quot;,\n",
       "  &quot;13_Records_es&quot;,\n",
       "  &quot;10_MasSobreFunciones&quot;,\n",
       "  &quot;14_Exercises&quot;,\n",
       "  &quot;11_IntroToTypes_es&quot;\n",
       "]</td></tr></tbody></table></div></details></td></tr></tbody></table></div></details></td></tr></tbody></table></td></tr><tr><td>_Print</td><td>{\n",
       "  &quot;title&quot;: &quot;M&#225;s sobre funciones&quot;,\n",
       "  &quot;files&quot;: [\n",
       "    &quot;12_DiscriminatedUnions_es&quot;,\n",
       "    &quot;13_Records_es&quot;,\n",
       "    &quot;10_MasSobreFunciones&quot;,\n",
       "    &quot;14_Exercises&quot;,\n",
       "    &quot;11_IntroToTypes_es&quot;\n",
       "  ]\n",
       "}</td></tr></tbody></table></div></details></td></tr></tbody></table></div></details></td></tr></tbody></table><style>\r\n",
       ".dni-code-hint {\r\n",
       "    font-style: italic;\r\n",
       "    overflow: hidden;\r\n",
       "    white-space: nowrap;\r\n",
       "}\r\n",
       ".dni-treeview {\r\n",
       "    white-space: nowrap;\r\n",
       "}\r\n",
       ".dni-treeview td {\r\n",
       "    vertical-align: top;\r\n",
       "    text-align: start;\r\n",
       "}\r\n",
       "details.dni-treeview {\r\n",
       "    padding-left: 1em;\r\n",
       "}\r\n",
       "table td {\r\n",
       "    text-align: start;\r\n",
       "}\r\n",
       "table tr { \r\n",
       "    vertical-align: top; \r\n",
       "    margin: 0em 0px;\r\n",
       "}\r\n",
       "table tr td pre \r\n",
       "{ \r\n",
       "    vertical-align: top !important; \r\n",
       "    margin: 0em 0px !important;\r\n",
       "} \r\n",
       "table th {\r\n",
       "    text-align: start;\r\n",
       "}\r\n",
       "</style>"
      ]
     },
     "metadata": {},
     "output_type": "display_data"
    }
   ],
   "source": [
    "lessons"
   ]
  },
  {
   "cell_type": "code",
   "execution_count": 7,
   "metadata": {
    "dotnet_interactive": {
     "language": "fsharp"
    },
    "polyglot_notebook": {
     "kernelName": "fsharp"
    },
    "vscode": {
     "languageId": "polyglot-notebook"
    }
   },
   "outputs": [],
   "source": [
    "let mdFile (file:string) = \n",
    "    let sourceFile = $\"{file}.md\"\n",
    "    Path.Combine(\"..\",draftsDir,sourceFile)"
   ]
  },
  {
   "cell_type": "code",
   "execution_count": 8,
   "metadata": {
    "dotnet_interactive": {
     "language": "fsharp"
    },
    "polyglot_notebook": {
     "kernelName": "fsharp"
    },
    "vscode": {
     "languageId": "polyglot-notebook"
    }
   },
   "outputs": [],
   "source": [
    "let lesson0 = \n",
    "    lessons[0].Files\n",
    "        |> Seq.map mdFile\n",
    "        |> Seq.map readFile \n",
    "        |> String.concat \"\\n\"\n",
    "\n",
    "let header0 = header lessons[0].Title \n",
    "\n",
    "let file0 = seq {\n",
    "        yield header0\n",
    "        yield lesson0 \n",
    "    } \n",
    "    \n",
    "\n",
    "File.WriteAllText(Path.Combine(\"..\",postsDir,\"Lesson0.md\"), file0 |> String.concat \"\\n\")\n"
   ]
  }
 ],
 "metadata": {
  "language_info": {
   "name": "python"
  },
  "orig_nbformat": 4
 },
 "nbformat": 4,
 "nbformat_minor": 2
}
